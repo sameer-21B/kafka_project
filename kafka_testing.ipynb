{
 "cells": [
  {
   "cell_type": "code",
   "execution_count": 169,
   "id": "33a05bfe",
   "metadata": {},
   "outputs": [],
   "source": [
    "import argparse\n",
    "from uuid import uuid4\n",
    "import pandas as pd"
   ]
  },
  {
   "cell_type": "code",
   "execution_count": 170,
   "id": "410caf10",
   "metadata": {},
   "outputs": [],
   "source": [
    "from confluent_kafka import Producer\n",
    "from confluent_kafka.serialization import StringSerializer, SerializationContext, MessageField\n",
    "from confluent_kafka.schema_registry import SchemaRegistryClient\n",
    "from confluent_kafka.schema_registry.json_schema import JSONSerializer"
   ]
  },
  {
   "cell_type": "code",
   "execution_count": 171,
   "id": "66df1f8e",
   "metadata": {},
   "outputs": [
    {
     "data": {
      "text/plain": [
       "['kafka_config.ini']"
      ]
     },
     "execution_count": 171,
     "metadata": {},
     "output_type": "execute_result"
    }
   ],
   "source": [
    "from configparser import ConfigParser\n",
    "configure=ConfigParser()\n",
    "configure.read('kafka_config.ini')"
   ]
  },
  {
   "cell_type": "code",
   "execution_count": 172,
   "id": "cbd4babe",
   "metadata": {},
   "outputs": [
    {
     "data": {
      "text/plain": [
       "'https://psrc-10dzz.ap-southeast-2.aws.confluent.cloud'"
      ]
     },
     "execution_count": 172,
     "metadata": {},
     "output_type": "execute_result"
    }
   ],
   "source": [
    "configure['Schema_Registry']['ENDPOINT_SCHEMA_URL']"
   ]
  },
  {
   "cell_type": "code",
   "execution_count": 173,
   "id": "4dea0fab",
   "metadata": {},
   "outputs": [
    {
     "name": "stdout",
     "output_type": "stream",
     "text": [
      "{'sasl.mechanism': 'PLAIN', 'bootstrap.servers': 'pkc-l7pr2.ap-south-1.aws.confluent.cloud:9092', 'security.protocol': 'SASL_SSL', 'sasl.username': 'QLCYOZMMI4FACXRR', 'sasl.password': '6QLw8EsONWzUd9QxcWJj17GSDwkdtEZCfAl4XgLIiT/Tlr+ATu01/pbhL1kDwmBb'}\n"
     ]
    }
   ],
   "source": [
    "def sasl_conf():\n",
    "\n",
    "    sasl_conf = {'sasl.mechanism': configure['Security_Params']['SSL_MACHENISM'],\n",
    "                'bootstrap.servers':configure['Kafka_Cluster_Config']['BOOTSTRAP_SERVER'],\n",
    "                'security.protocol': configure['Security_Params']['SECURITY_PROTOCOL'],\n",
    "                'sasl.username': configure['Kafka_Cluster_Config']['API_KEY'],\n",
    "                'sasl.password': configure['Kafka_Cluster_Config']['API_SECRET_KEY']\n",
    "                }\n",
    "    return sasl_conf\n",
    "\n",
    "print(sasl_conf())"
   ]
  },
  {
   "cell_type": "code",
   "execution_count": 174,
   "id": "56f2db84",
   "metadata": {},
   "outputs": [
    {
     "name": "stdout",
     "output_type": "stream",
     "text": [
      "{'url': 'https://psrc-10dzz.ap-southeast-2.aws.confluent.cloud', 'basic.auth.user.info': 'BADBMWX2ENBDFSPQ:/oGF2gx7Y+2nTertWRL6snJ3NEMR6lMtDCBrcVH1M/FJ6gHHBzqK7Jowbh+o3wcD'}\n"
     ]
    }
   ],
   "source": [
    "def schema_config():\n",
    "    return {'url':configure['Schema_Registry']['ENDPOINT_SCHEMA_URL'],\n",
    "    'basic.auth.user.info':f\"{configure['Schema_Registry']['SCHEMA_REGISTRY_API_KEY']}:{configure['Schema_Registry']['SCHEMA_REGISTRY_API_SECRET']}\"\n",
    "\n",
    "    }\n",
    "\n",
    "print(schema_config())"
   ]
  },
  {
   "cell_type": "code",
   "execution_count": 175,
   "id": "8a99e964",
   "metadata": {},
   "outputs": [],
   "source": [
    "import importlib\n",
    "import dbutils\n",
    "import datetime\n",
    "importlib.reload(dbutils)\n",
    "from dbutils import Dbutils as db\n",
    "\n",
    "prev_date=datetime.datetime(2024,1,8)"
   ]
  },
  {
   "cell_type": "code",
   "execution_count": 176,
   "id": "866a31a1",
   "metadata": {},
   "outputs": [],
   "source": [
    "class Car:   \n",
    "    def __init__(self,record:dict):\n",
    "        for k,v in record.items():\n",
    "            setattr(self,k,v)\n",
    "        \n",
    "        self.record=record\n",
    "   \n",
    "    @staticmethod\n",
    "    def dict_to_car(data:dict,ctx):\n",
    "        return Car(record=data)\n",
    "\n",
    "    def __str__(self):\n",
    "        return f\"{self.record}\""
   ]
  },
  {
   "cell_type": "code",
   "execution_count": 177,
   "id": "4f4388df",
   "metadata": {},
   "outputs": [],
   "source": [
    "def car_to_dict(car:Car, ctx):\n",
    "    \"\"\"\n",
    "    Returns a dict representation of a User instance for serialization.\n",
    "    Args:\n",
    "        user (User): User instance.\n",
    "        ctx (SerializationContext): Metadata pertaining to the serialization\n",
    "            operation.\n",
    "    Returns:\n",
    "        dict: Dict populated with user attributes to be serialized.\n",
    "    \"\"\"\n",
    "\n",
    "    # User._address must not be serialized; omit from dict\n",
    "    return car.record\n",
    "\n",
    "def delivery_report(err, msg):\n",
    "    \"\"\"\n",
    "    Reports the success or failure of a message delivery.\n",
    "    Args:\n",
    "        err (KafkaError): The error that occurred on None on success.\n",
    "        msg (Message): The message that was produced or failed.\n",
    "    \"\"\"\n",
    "\n",
    "    if err is not None:\n",
    "        print(\"Delivery failed for User record {}: {}\".format(msg.key(), err))\n",
    "        return\n",
    "    print('User record {} successfully produced to {} [{}] at offset {}'.format(\n",
    "        msg.key(), msg.topic(), msg.partition(), msg.offset()))"
   ]
  },
  {
   "cell_type": "code",
   "execution_count": 178,
   "id": "229ab38b",
   "metadata": {},
   "outputs": [],
   "source": [
    "db_obj=db()\n",
    "db_obj.db_connect()\n",
    "\n",
    "def get_car_instance():\n",
    "    query=\"select max(Record_ld_dt) as max_record_ld_dts from kafka_test.cardekho_sales_dtl\"\n",
    "    max_date=db_obj.run_query(query)['max_record_ld_dts'].values[0]\n",
    "    global prev_date\n",
    "    if max_date==prev_date:\n",
    "        print(\"No New data found\")\n",
    "        return -1\n",
    "    else:\n",
    "        query=f\"select * from kafka_test.cardekho_sales_dtl where Record_ld_dt='{max_date}'\"\n",
    "        df=db_obj.run_query(query)\n",
    "        df['Record_ld_dt']=df['Record_ld_dt'].astype(str)\n",
    "        prev_date=max_date\n",
    "        for data in df.values:\n",
    "            car=Car(dict(zip(df.columns,data)))\n",
    "            yield car\n",
    "    "
   ]
  },
  {
   "cell_type": "code",
   "execution_count": 102,
   "id": "aed65580",
   "metadata": {},
   "outputs": [
    {
     "data": {
      "text/html": [
       "<div>\n",
       "<style scoped>\n",
       "    .dataframe tbody tr th:only-of-type {\n",
       "        vertical-align: middle;\n",
       "    }\n",
       "\n",
       "    .dataframe tbody tr th {\n",
       "        vertical-align: top;\n",
       "    }\n",
       "\n",
       "    .dataframe thead th {\n",
       "        text-align: right;\n",
       "    }\n",
       "</style>\n",
       "<table border=\"1\" class=\"dataframe\">\n",
       "  <thead>\n",
       "    <tr style=\"text-align: right;\">\n",
       "      <th></th>\n",
       "      <th>Idx</th>\n",
       "      <th>Car_name</th>\n",
       "      <th>Brand</th>\n",
       "      <th>Model</th>\n",
       "      <th>Vehicle_age</th>\n",
       "      <th>Km_driven</th>\n",
       "      <th>Seller_type</th>\n",
       "      <th>Fuel_type</th>\n",
       "      <th>Transmission_type</th>\n",
       "      <th>Mileage</th>\n",
       "      <th>Engine</th>\n",
       "      <th>Max_power</th>\n",
       "      <th>Seats</th>\n",
       "      <th>Selling_price</th>\n",
       "      <th>Record_ld_dt</th>\n",
       "    </tr>\n",
       "  </thead>\n",
       "  <tbody>\n",
       "    <tr>\n",
       "      <th>0</th>\n",
       "      <td>1</td>\n",
       "      <td>Maruti Alto</td>\n",
       "      <td>Maruti</td>\n",
       "      <td>Alto</td>\n",
       "      <td>9</td>\n",
       "      <td>120000</td>\n",
       "      <td>Individual</td>\n",
       "      <td>Petrol</td>\n",
       "      <td>Manual</td>\n",
       "      <td>19.70</td>\n",
       "      <td>796</td>\n",
       "      <td>46.30</td>\n",
       "      <td>5</td>\n",
       "      <td>120000</td>\n",
       "      <td>2025-05-10 08:45:26</td>\n",
       "    </tr>\n",
       "    <tr>\n",
       "      <th>1</th>\n",
       "      <td>2</td>\n",
       "      <td>Hyundai Grand</td>\n",
       "      <td>Hyundai</td>\n",
       "      <td>Grand</td>\n",
       "      <td>5</td>\n",
       "      <td>20000</td>\n",
       "      <td>Individual</td>\n",
       "      <td>Petrol</td>\n",
       "      <td>Manual</td>\n",
       "      <td>18.90</td>\n",
       "      <td>1197</td>\n",
       "      <td>82.00</td>\n",
       "      <td>5</td>\n",
       "      <td>550000</td>\n",
       "      <td>2025-05-10 08:45:26</td>\n",
       "    </tr>\n",
       "    <tr>\n",
       "      <th>2</th>\n",
       "      <td>3</td>\n",
       "      <td>Hyundai i20</td>\n",
       "      <td>Hyundai</td>\n",
       "      <td>i20</td>\n",
       "      <td>11</td>\n",
       "      <td>60000</td>\n",
       "      <td>Individual</td>\n",
       "      <td>Petrol</td>\n",
       "      <td>Manual</td>\n",
       "      <td>17.00</td>\n",
       "      <td>1197</td>\n",
       "      <td>80.00</td>\n",
       "      <td>5</td>\n",
       "      <td>215000</td>\n",
       "      <td>2025-05-10 08:45:26</td>\n",
       "    </tr>\n",
       "    <tr>\n",
       "      <th>3</th>\n",
       "      <td>4</td>\n",
       "      <td>Maruti Alto</td>\n",
       "      <td>Maruti</td>\n",
       "      <td>Alto</td>\n",
       "      <td>9</td>\n",
       "      <td>37000</td>\n",
       "      <td>Individual</td>\n",
       "      <td>Petrol</td>\n",
       "      <td>Manual</td>\n",
       "      <td>20.92</td>\n",
       "      <td>998</td>\n",
       "      <td>67.10</td>\n",
       "      <td>5</td>\n",
       "      <td>226000</td>\n",
       "      <td>2025-05-10 08:45:26</td>\n",
       "    </tr>\n",
       "    <tr>\n",
       "      <th>4</th>\n",
       "      <td>5</td>\n",
       "      <td>Ford Ecosport</td>\n",
       "      <td>Ford</td>\n",
       "      <td>Ecosport</td>\n",
       "      <td>6</td>\n",
       "      <td>30000</td>\n",
       "      <td>Dealer</td>\n",
       "      <td>Diesel</td>\n",
       "      <td>Manual</td>\n",
       "      <td>22.77</td>\n",
       "      <td>1498</td>\n",
       "      <td>98.59</td>\n",
       "      <td>5</td>\n",
       "      <td>570000</td>\n",
       "      <td>2025-05-10 08:45:26</td>\n",
       "    </tr>\n",
       "  </tbody>\n",
       "</table>\n",
       "</div>"
      ],
      "text/plain": [
       "   Idx       Car_name    Brand     Model  Vehicle_age  Km_driven Seller_type  \\\n",
       "0    1    Maruti Alto   Maruti      Alto            9     120000  Individual   \n",
       "1    2  Hyundai Grand  Hyundai     Grand            5      20000  Individual   \n",
       "2    3    Hyundai i20  Hyundai       i20           11      60000  Individual   \n",
       "3    4    Maruti Alto   Maruti      Alto            9      37000  Individual   \n",
       "4    5  Ford Ecosport     Ford  Ecosport            6      30000      Dealer   \n",
       "\n",
       "  Fuel_type Transmission_type  Mileage  Engine  Max_power  Seats  \\\n",
       "0    Petrol            Manual    19.70     796      46.30      5   \n",
       "1    Petrol            Manual    18.90    1197      82.00      5   \n",
       "2    Petrol            Manual    17.00    1197      80.00      5   \n",
       "3    Petrol            Manual    20.92     998      67.10      5   \n",
       "4    Diesel            Manual    22.77    1498      98.59      5   \n",
       "\n",
       "   Selling_price         Record_ld_dt  \n",
       "0         120000  2025-05-10 08:45:26  \n",
       "1         550000  2025-05-10 08:45:26  \n",
       "2         215000  2025-05-10 08:45:26  \n",
       "3         226000  2025-05-10 08:45:26  \n",
       "4         570000  2025-05-10 08:45:26  "
      ]
     },
     "execution_count": 102,
     "metadata": {},
     "output_type": "execute_result"
    }
   ],
   "source": [
    "df.head()"
   ]
  },
  {
   "cell_type": "code",
   "execution_count": 133,
   "id": "654f6e7c",
   "metadata": {},
   "outputs": [
    {
     "name": "stdout",
     "output_type": "stream",
     "text": [
      "Idx                    int64\n",
      "Car_name              object\n",
      "Brand                 object\n",
      "Model                 object\n",
      "Vehicle_age            int64\n",
      "Km_driven              int64\n",
      "Seller_type           object\n",
      "Fuel_type             object\n",
      "Transmission_type     object\n",
      "Mileage              float64\n",
      "Engine                 int64\n",
      "Max_power            float64\n",
      "Seats                  int64\n",
      "Selling_price          int64\n",
      "Record_ld_dt          object\n",
      "dtype: object\n",
      "[11 'Hyundai Verna' 'Hyundai' 'Verna' 8 65278 'Dealer' 'Diesel' 'Manual'\n",
      " 22.32 1582 126.32 5 425000 '2025-05-14 07:05:44']\n",
      "{'Idx': 11, 'Car_name': 'Hyundai Verna', 'Brand': 'Hyundai', 'Model': 'Verna', 'Vehicle_age': 8, 'Km_driven': 65278, 'Seller_type': 'Dealer', 'Fuel_type': 'Diesel', 'Transmission_type': 'Manual', 'Mileage': 22.32, 'Engine': 1582, 'Max_power': 126.32, 'Seats': 5, 'Selling_price': 425000, 'Record_ld_dt': '2025-05-14 07:05:44'}\n",
      "[12 'Renault Duster' 'Renault' 'Duster' 5 50000 'Individual' 'Diesel'\n",
      " 'Manual' 19.64 1461 108.45 5 750000 '2025-05-14 07:05:44']\n",
      "{'Idx': 12, 'Car_name': 'Renault Duster', 'Brand': 'Renault', 'Model': 'Duster', 'Vehicle_age': 5, 'Km_driven': 50000, 'Seller_type': 'Individual', 'Fuel_type': 'Diesel', 'Transmission_type': 'Manual', 'Mileage': 19.64, 'Engine': 1461, 'Max_power': 108.45, 'Seats': 5, 'Selling_price': 750000, 'Record_ld_dt': '2025-05-14 07:05:44'}\n",
      "[13 'Mini Cooper' 'Mini' 'Cooper' 4 6000 'Dealer' 'Petrol' 'Automatic'\n",
      " 14.41 1998 189.08 5 3250000 '2025-05-14 07:05:44']\n",
      "{'Idx': 13, 'Car_name': 'Mini Cooper', 'Brand': 'Mini', 'Model': 'Cooper', 'Vehicle_age': 4, 'Km_driven': 6000, 'Seller_type': 'Dealer', 'Fuel_type': 'Petrol', 'Transmission_type': 'Automatic', 'Mileage': 14.41, 'Engine': 1998, 'Max_power': 189.08, 'Seats': 5, 'Selling_price': 3250000, 'Record_ld_dt': '2025-05-14 07:05:44'}\n",
      "[14 'Maruti Ciaz' 'Maruti' 'Ciaz' 5 76000 'Dealer' 'Diesel' 'Manual' 28.09\n",
      " 1248 88.5 5 650000 '2025-05-14 07:05:44']\n",
      "{'Idx': 14, 'Car_name': 'Maruti Ciaz', 'Brand': 'Maruti', 'Model': 'Ciaz', 'Vehicle_age': 5, 'Km_driven': 76000, 'Seller_type': 'Dealer', 'Fuel_type': 'Diesel', 'Transmission_type': 'Manual', 'Mileage': 28.09, 'Engine': 1248, 'Max_power': 88.5, 'Seats': 5, 'Selling_price': 650000, 'Record_ld_dt': '2025-05-14 07:05:44'}\n",
      "[15 'Maruti Swift' 'Maruti' 'Swift' 5 20000 'Individual' 'Diesel' 'Manual'\n",
      " 25.2 1248 74.0 5 627000 '2025-05-14 07:05:44']\n",
      "{'Idx': 15, 'Car_name': 'Maruti Swift', 'Brand': 'Maruti', 'Model': 'Swift', 'Vehicle_age': 5, 'Km_driven': 20000, 'Seller_type': 'Individual', 'Fuel_type': 'Diesel', 'Transmission_type': 'Manual', 'Mileage': 25.2, 'Engine': 1248, 'Max_power': 74.0, 'Seats': 5, 'Selling_price': 627000, 'Record_ld_dt': '2025-05-14 07:05:44'}\n"
     ]
    }
   ],
   "source": [
    "for car in get_car_instance():\n",
    "    print(car)"
   ]
  },
  {
   "cell_type": "code",
   "execution_count": 179,
   "id": "5a90ece1",
   "metadata": {},
   "outputs": [
    {
     "name": "stdout",
     "output_type": "stream",
     "text": [
      "Producing user records to topic car_topic. ^C to exit.\n",
      "{'Idx': 11, 'Car_name': 'Hyundai Verna', 'Brand': 'Hyundai', 'Model': 'Verna', 'Vehicle_age': 8, 'Km_driven': 65278, 'Seller_type': 'Dealer', 'Fuel_type': 'Diesel', 'Transmission_type': 'Manual', 'Mileage': 22.32, 'Engine': 1582, 'Max_power': 126.32, 'Seats': 5, 'Selling_price': 425000, 'Record_ld_dt': '2025-05-14 07:05:44'}\n",
      "{'Idx': 12, 'Car_name': 'Renault Duster', 'Brand': 'Renault', 'Model': 'Duster', 'Vehicle_age': 5, 'Km_driven': 50000, 'Seller_type': 'Individual', 'Fuel_type': 'Diesel', 'Transmission_type': 'Manual', 'Mileage': 19.64, 'Engine': 1461, 'Max_power': 108.45, 'Seats': 5, 'Selling_price': 750000, 'Record_ld_dt': '2025-05-14 07:05:44'}\n",
      "{'Idx': 13, 'Car_name': 'Mini Cooper', 'Brand': 'Mini', 'Model': 'Cooper', 'Vehicle_age': 4, 'Km_driven': 6000, 'Seller_type': 'Dealer', 'Fuel_type': 'Petrol', 'Transmission_type': 'Automatic', 'Mileage': 14.41, 'Engine': 1998, 'Max_power': 189.08, 'Seats': 5, 'Selling_price': 3250000, 'Record_ld_dt': '2025-05-14 07:05:44'}\n",
      "{'Idx': 14, 'Car_name': 'Maruti Ciaz', 'Brand': 'Maruti', 'Model': 'Ciaz', 'Vehicle_age': 5, 'Km_driven': 76000, 'Seller_type': 'Dealer', 'Fuel_type': 'Diesel', 'Transmission_type': 'Manual', 'Mileage': 28.09, 'Engine': 1248, 'Max_power': 88.5, 'Seats': 5, 'Selling_price': 650000, 'Record_ld_dt': '2025-05-14 07:05:44'}\n",
      "{'Idx': 15, 'Car_name': 'Maruti Swift', 'Brand': 'Maruti', 'Model': 'Swift', 'Vehicle_age': 5, 'Km_driven': 20000, 'Seller_type': 'Individual', 'Fuel_type': 'Diesel', 'Transmission_type': 'Manual', 'Mileage': 25.2, 'Engine': 1248, 'Max_power': 74.0, 'Seats': 5, 'Selling_price': 627000, 'Record_ld_dt': '2025-05-14 07:05:44'}\n",
      "\n",
      "Flushing records...\n",
      "User record b'1e55b487-8f9a-450e-99be-ee79fc701697' successfully produced to car_topic [0] at offset 1\n",
      "User record b'44de025d-f3be-4786-af8f-0889a964dc3e' successfully produced to car_topic [0] at offset 2\n",
      "User record b'04469f93-f301-47c3-88ec-933677437b3f' successfully produced to car_topic [2] at offset 5\n",
      "User record b'c5ff4952-0a60-4501-970c-6a5687f3c399' successfully produced to car_topic [2] at offset 6\n",
      "User record b'90377a1a-4c30-49a1-8ad8-8ef3b1c076ab' successfully produced to car_topic [1] at offset 1\n"
     ]
    }
   ],
   "source": [
    "def main(topic):\n",
    "    schema_registry_conf = schema_config()\n",
    "    schema_registry_client = SchemaRegistryClient(schema_registry_conf)\n",
    "    # subjects = schema_registry_client.get_subjects()\n",
    "    # print(subjects)\n",
    "    subject = topic+'-value'\n",
    "\n",
    "    schema = schema_registry_client.get_latest_version(subject)\n",
    "    schema_str=schema.schema.schema_str\n",
    "\n",
    "    string_serializer = StringSerializer('utf_8')\n",
    "    json_serializer = JSONSerializer(schema_str, schema_registry_client, car_to_dict)\n",
    "\n",
    "    producer = Producer(sasl_conf())\n",
    "\n",
    "    print(\"Producing user records to topic {}. ^C to exit.\".format(topic))\n",
    "    #while True:\n",
    "        # Serve on_delivery callbacks from previous calls to produce()\n",
    "    producer.poll(0.0)\n",
    "    try:\n",
    "        for car in get_car_instance():\n",
    "            print(car)\n",
    "            producer.produce(topic=topic,\n",
    "                            key=string_serializer(str(uuid4())),\n",
    "                            value=json_serializer(car, SerializationContext(topic, MessageField.VALUE)),\n",
    "                            on_delivery=delivery_report)\n",
    "    except KeyboardInterrupt:\n",
    "        pass\n",
    "    except ValueError:\n",
    "        print(\"Invalid input, discarding record...\")\n",
    "        pass\n",
    "\n",
    "    print(\"\\nFlushing records...\")\n",
    "    producer.flush()\n",
    "\n",
    "main(\"car_topic\")"
   ]
  },
  {
   "cell_type": "markdown",
   "id": "fb67376e",
   "metadata": {},
   "source": [
    "Kafka Consumer"
   ]
  },
  {
   "cell_type": "code",
   "execution_count": 166,
   "id": "4e30c31f",
   "metadata": {},
   "outputs": [],
   "source": [
    "from confluent_kafka import Consumer\n",
    "from confluent_kafka.schema_registry.json_schema import JSONDeserializer"
   ]
  },
  {
   "cell_type": "code",
   "execution_count": 168,
   "id": "ed2fbb8e",
   "metadata": {},
   "outputs": [],
   "source": [
    "def main(topic):\n",
    "\n",
    "    schema_registry_conf = schema_config()\n",
    "    schema_registry_client = SchemaRegistryClient(schema_registry_conf)\n",
    "    # subjects = schema_registry_client.get_subjects()\n",
    "    # print(subjects)\n",
    "    subject = topic+'-value'\n",
    "\n",
    "    schema = schema_registry_client.get_latest_version(subject)\n",
    "    schema_str=schema.schema.schema_str\n",
    "\n",
    "    json_deserializer = JSONDeserializer(schema_str,\n",
    "                                         from_dict=Car.dict_to_car)\n",
    "\n",
    "    consumer_conf = sasl_conf()\n",
    "    consumer_conf.update({\n",
    "                     'group.id': 'group1',\n",
    "                     'auto.offset.reset': \"earliest\"})\n",
    "\n",
    "    consumer = Consumer(consumer_conf)\n",
    "    consumer.subscribe([topic])\n",
    "\n",
    "\n",
    "    while True:\n",
    "        try:\n",
    "            # SIGINT can't be handled when polling, limit timeout to 1 second.\n",
    "            msg = consumer.poll(1.0)\n",
    "            if msg is None:\n",
    "                continue\n",
    "\n",
    "            car = json_deserializer(msg.value(), SerializationContext(msg.topic(), MessageField.VALUE))\n",
    "\n",
    "            if car is not None:\n",
    "                print(\"User record {}: car: {}\\n\"\n",
    "                      .format(msg.key(), car))\n",
    "        except KeyboardInterrupt:\n",
    "            break\n",
    "\n",
    "    consumer.close()\n",
    "\n",
    "main(\"car_topic\")"
   ]
  },
  {
   "cell_type": "code",
   "execution_count": 14,
   "id": "26a2674d",
   "metadata": {},
   "outputs": [
    {
     "name": "stdout",
     "output_type": "stream",
     "text": [
      "2025-05-14T07:05:44.000000000\n"
     ]
    }
   ],
   "source": [
    "prev_dt=df['max_record_ld_dts'].values\n",
    "print(prev_dt[0])"
   ]
  },
  {
   "cell_type": "code",
   "execution_count": null,
   "id": "ed5c6877",
   "metadata": {},
   "outputs": [],
   "source": []
  }
 ],
 "metadata": {
  "kernelspec": {
   "display_name": "kafka_test",
   "language": "python",
   "name": "python3"
  },
  "language_info": {
   "codemirror_mode": {
    "name": "ipython",
    "version": 3
   },
   "file_extension": ".py",
   "mimetype": "text/x-python",
   "name": "python",
   "nbconvert_exporter": "python",
   "pygments_lexer": "ipython3",
   "version": "3.8.2"
  }
 },
 "nbformat": 4,
 "nbformat_minor": 5
}
