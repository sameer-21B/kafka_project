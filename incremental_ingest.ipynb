{
 "cells": [
  {
   "cell_type": "code",
   "execution_count": 15,
   "metadata": {},
   "outputs": [],
   "source": [
    "import pandas as pd"
   ]
  },
  {
   "cell_type": "code",
   "execution_count": 16,
   "metadata": {},
   "outputs": [],
   "source": [
    "car_data=pd.read_csv('./cardekho_dataset.csv',index_col=0)"
   ]
  },
  {
   "cell_type": "code",
   "execution_count": 17,
   "metadata": {},
   "outputs": [],
   "source": [
    "car_data['Idx']=range(1,len(car_data)+1)\n",
    "car_data=car_data[['Idx']+list(car_data.columns)[:-1]]\n"
   ]
  },
  {
   "cell_type": "code",
   "execution_count": 18,
   "metadata": {},
   "outputs": [
    {
     "data": {
      "text/html": [
       "<div>\n",
       "<style scoped>\n",
       "    .dataframe tbody tr th:only-of-type {\n",
       "        vertical-align: middle;\n",
       "    }\n",
       "\n",
       "    .dataframe tbody tr th {\n",
       "        vertical-align: top;\n",
       "    }\n",
       "\n",
       "    .dataframe thead th {\n",
       "        text-align: right;\n",
       "    }\n",
       "</style>\n",
       "<table border=\"1\" class=\"dataframe\">\n",
       "  <thead>\n",
       "    <tr style=\"text-align: right;\">\n",
       "      <th></th>\n",
       "      <th>Idx</th>\n",
       "      <th>car_name</th>\n",
       "      <th>brand</th>\n",
       "      <th>model</th>\n",
       "      <th>vehicle_age</th>\n",
       "      <th>km_driven</th>\n",
       "      <th>seller_type</th>\n",
       "      <th>fuel_type</th>\n",
       "      <th>transmission_type</th>\n",
       "      <th>mileage</th>\n",
       "      <th>engine</th>\n",
       "      <th>max_power</th>\n",
       "      <th>seats</th>\n",
       "      <th>selling_price</th>\n",
       "    </tr>\n",
       "  </thead>\n",
       "  <tbody>\n",
       "    <tr>\n",
       "      <th>0</th>\n",
       "      <td>1</td>\n",
       "      <td>Maruti Alto</td>\n",
       "      <td>Maruti</td>\n",
       "      <td>Alto</td>\n",
       "      <td>9</td>\n",
       "      <td>120000</td>\n",
       "      <td>Individual</td>\n",
       "      <td>Petrol</td>\n",
       "      <td>Manual</td>\n",
       "      <td>19.70</td>\n",
       "      <td>796</td>\n",
       "      <td>46.30</td>\n",
       "      <td>5</td>\n",
       "      <td>120000</td>\n",
       "    </tr>\n",
       "    <tr>\n",
       "      <th>1</th>\n",
       "      <td>2</td>\n",
       "      <td>Hyundai Grand</td>\n",
       "      <td>Hyundai</td>\n",
       "      <td>Grand</td>\n",
       "      <td>5</td>\n",
       "      <td>20000</td>\n",
       "      <td>Individual</td>\n",
       "      <td>Petrol</td>\n",
       "      <td>Manual</td>\n",
       "      <td>18.90</td>\n",
       "      <td>1197</td>\n",
       "      <td>82.00</td>\n",
       "      <td>5</td>\n",
       "      <td>550000</td>\n",
       "    </tr>\n",
       "    <tr>\n",
       "      <th>2</th>\n",
       "      <td>3</td>\n",
       "      <td>Hyundai i20</td>\n",
       "      <td>Hyundai</td>\n",
       "      <td>i20</td>\n",
       "      <td>11</td>\n",
       "      <td>60000</td>\n",
       "      <td>Individual</td>\n",
       "      <td>Petrol</td>\n",
       "      <td>Manual</td>\n",
       "      <td>17.00</td>\n",
       "      <td>1197</td>\n",
       "      <td>80.00</td>\n",
       "      <td>5</td>\n",
       "      <td>215000</td>\n",
       "    </tr>\n",
       "    <tr>\n",
       "      <th>3</th>\n",
       "      <td>4</td>\n",
       "      <td>Maruti Alto</td>\n",
       "      <td>Maruti</td>\n",
       "      <td>Alto</td>\n",
       "      <td>9</td>\n",
       "      <td>37000</td>\n",
       "      <td>Individual</td>\n",
       "      <td>Petrol</td>\n",
       "      <td>Manual</td>\n",
       "      <td>20.92</td>\n",
       "      <td>998</td>\n",
       "      <td>67.10</td>\n",
       "      <td>5</td>\n",
       "      <td>226000</td>\n",
       "    </tr>\n",
       "    <tr>\n",
       "      <th>4</th>\n",
       "      <td>5</td>\n",
       "      <td>Ford Ecosport</td>\n",
       "      <td>Ford</td>\n",
       "      <td>Ecosport</td>\n",
       "      <td>6</td>\n",
       "      <td>30000</td>\n",
       "      <td>Dealer</td>\n",
       "      <td>Diesel</td>\n",
       "      <td>Manual</td>\n",
       "      <td>22.77</td>\n",
       "      <td>1498</td>\n",
       "      <td>98.59</td>\n",
       "      <td>5</td>\n",
       "      <td>570000</td>\n",
       "    </tr>\n",
       "  </tbody>\n",
       "</table>\n",
       "</div>"
      ],
      "text/plain": [
       "   Idx       car_name    brand     model  vehicle_age  km_driven seller_type  \\\n",
       "0    1    Maruti Alto   Maruti      Alto            9     120000  Individual   \n",
       "1    2  Hyundai Grand  Hyundai     Grand            5      20000  Individual   \n",
       "2    3    Hyundai i20  Hyundai       i20           11      60000  Individual   \n",
       "3    4    Maruti Alto   Maruti      Alto            9      37000  Individual   \n",
       "4    5  Ford Ecosport     Ford  Ecosport            6      30000      Dealer   \n",
       "\n",
       "  fuel_type transmission_type  mileage  engine  max_power  seats  \\\n",
       "0    Petrol            Manual    19.70     796      46.30      5   \n",
       "1    Petrol            Manual    18.90    1197      82.00      5   \n",
       "2    Petrol            Manual    17.00    1197      80.00      5   \n",
       "3    Petrol            Manual    20.92     998      67.10      5   \n",
       "4    Diesel            Manual    22.77    1498      98.59      5   \n",
       "\n",
       "   selling_price  \n",
       "0         120000  \n",
       "1         550000  \n",
       "2         215000  \n",
       "3         226000  \n",
       "4         570000  "
      ]
     },
     "execution_count": 18,
     "metadata": {},
     "output_type": "execute_result"
    }
   ],
   "source": [
    "car_data.head()"
   ]
  },
  {
   "cell_type": "code",
   "execution_count": 19,
   "metadata": {},
   "outputs": [],
   "source": [
    "import configuration\n",
    "# Python caches imported modules, and so it would not pick up the changes in file. \n",
    "# This is a Python feature, and is independent of Enthought Canopy.\n",
    "# Hence manually reolading the module is necessary or else you'll have to keep on manually restarting the cluster.\n",
    "import importlib\n",
    "importlib.reload(configuration)\n",
    "from configuration import GlobalCounter as gc\n",
    "\n",
    "gc_obj=gc()"
   ]
  },
  {
   "cell_type": "code",
   "execution_count": 7,
   "metadata": {},
   "outputs": [
    {
     "name": "stdout",
     "output_type": "stream",
     "text": [
      "Current value of Global Counter is 15\n",
      "Incrementing Global counter value by 5\n",
      "Commiting config data changes.\n"
     ]
    }
   ],
   "source": [
    "if int(gc_obj.current_global_counter_val)+int(gc_obj.records_in_a_batch)>len(car_data):\n",
    "    gc_obj.reset_global_counter_val()\n",
    "print(\"Current value of Global Counter is {}\".format(gc_obj.current_global_counter_val))\n",
    "batch_of_data = gc_obj.fetch_records(car_data)\n",
    "print(\"Incrementing Global counter value by {}\".format(gc_obj.records_in_a_batch))\n",
    "gc_obj.set_global_counter_val()\n",
    "print(\"Commiting config data changes.\")\n",
    "gc_obj.write_config_data()"
   ]
  },
  {
   "cell_type": "code",
   "execution_count": 20,
   "metadata": {},
   "outputs": [
    {
     "data": {
      "text/html": [
       "<div>\n",
       "<style scoped>\n",
       "    .dataframe tbody tr th:only-of-type {\n",
       "        vertical-align: middle;\n",
       "    }\n",
       "\n",
       "    .dataframe tbody tr th {\n",
       "        vertical-align: top;\n",
       "    }\n",
       "\n",
       "    .dataframe thead th {\n",
       "        text-align: right;\n",
       "    }\n",
       "</style>\n",
       "<table border=\"1\" class=\"dataframe\">\n",
       "  <thead>\n",
       "    <tr style=\"text-align: right;\">\n",
       "      <th></th>\n",
       "      <th>Idx</th>\n",
       "      <th>car_name</th>\n",
       "      <th>brand</th>\n",
       "      <th>model</th>\n",
       "      <th>vehicle_age</th>\n",
       "      <th>km_driven</th>\n",
       "      <th>seller_type</th>\n",
       "      <th>fuel_type</th>\n",
       "      <th>transmission_type</th>\n",
       "      <th>mileage</th>\n",
       "      <th>engine</th>\n",
       "      <th>max_power</th>\n",
       "      <th>seats</th>\n",
       "      <th>selling_price</th>\n",
       "    </tr>\n",
       "  </thead>\n",
       "  <tbody>\n",
       "    <tr>\n",
       "      <th>4943</th>\n",
       "      <td>3881</td>\n",
       "      <td>Kia Seltos</td>\n",
       "      <td>Kia</td>\n",
       "      <td>Seltos</td>\n",
       "      <td>2</td>\n",
       "      <td>5000</td>\n",
       "      <td>Individual</td>\n",
       "      <td>Diesel</td>\n",
       "      <td>Manual</td>\n",
       "      <td>20.80</td>\n",
       "      <td>1493</td>\n",
       "      <td>113.40</td>\n",
       "      <td>5</td>\n",
       "      <td>1549000</td>\n",
       "    </tr>\n",
       "    <tr>\n",
       "      <th>4945</th>\n",
       "      <td>3882</td>\n",
       "      <td>Maruti Swift Dzire</td>\n",
       "      <td>Maruti</td>\n",
       "      <td>Swift Dzire</td>\n",
       "      <td>3</td>\n",
       "      <td>21500</td>\n",
       "      <td>Individual</td>\n",
       "      <td>Petrol</td>\n",
       "      <td>Manual</td>\n",
       "      <td>21.21</td>\n",
       "      <td>1197</td>\n",
       "      <td>81.80</td>\n",
       "      <td>5</td>\n",
       "      <td>650000</td>\n",
       "    </tr>\n",
       "    <tr>\n",
       "      <th>4946</th>\n",
       "      <td>3883</td>\n",
       "      <td>Maruti Alto</td>\n",
       "      <td>Maruti</td>\n",
       "      <td>Alto</td>\n",
       "      <td>9</td>\n",
       "      <td>55294</td>\n",
       "      <td>Individual</td>\n",
       "      <td>Petrol</td>\n",
       "      <td>Manual</td>\n",
       "      <td>20.92</td>\n",
       "      <td>998</td>\n",
       "      <td>67.10</td>\n",
       "      <td>5</td>\n",
       "      <td>251000</td>\n",
       "    </tr>\n",
       "    <tr>\n",
       "      <th>4947</th>\n",
       "      <td>3884</td>\n",
       "      <td>Maruti Swift Dzire</td>\n",
       "      <td>Maruti</td>\n",
       "      <td>Swift Dzire</td>\n",
       "      <td>3</td>\n",
       "      <td>10000</td>\n",
       "      <td>Individual</td>\n",
       "      <td>Diesel</td>\n",
       "      <td>Manual</td>\n",
       "      <td>28.40</td>\n",
       "      <td>1248</td>\n",
       "      <td>74.02</td>\n",
       "      <td>5</td>\n",
       "      <td>800000</td>\n",
       "    </tr>\n",
       "    <tr>\n",
       "      <th>4948</th>\n",
       "      <td>3885</td>\n",
       "      <td>Maruti Swift</td>\n",
       "      <td>Maruti</td>\n",
       "      <td>Swift</td>\n",
       "      <td>8</td>\n",
       "      <td>20000</td>\n",
       "      <td>Individual</td>\n",
       "      <td>Petrol</td>\n",
       "      <td>Manual</td>\n",
       "      <td>18.60</td>\n",
       "      <td>1197</td>\n",
       "      <td>85.80</td>\n",
       "      <td>5</td>\n",
       "      <td>350000</td>\n",
       "    </tr>\n",
       "  </tbody>\n",
       "</table>\n",
       "</div>"
      ],
      "text/plain": [
       "       Idx            car_name   brand        model  vehicle_age  km_driven  \\\n",
       "4943  3881          Kia Seltos     Kia       Seltos            2       5000   \n",
       "4945  3882  Maruti Swift Dzire  Maruti  Swift Dzire            3      21500   \n",
       "4946  3883         Maruti Alto  Maruti         Alto            9      55294   \n",
       "4947  3884  Maruti Swift Dzire  Maruti  Swift Dzire            3      10000   \n",
       "4948  3885        Maruti Swift  Maruti        Swift            8      20000   \n",
       "\n",
       "     seller_type fuel_type transmission_type  mileage  engine  max_power  \\\n",
       "4943  Individual    Diesel            Manual    20.80    1493     113.40   \n",
       "4945  Individual    Petrol            Manual    21.21    1197      81.80   \n",
       "4946  Individual    Petrol            Manual    20.92     998      67.10   \n",
       "4947  Individual    Diesel            Manual    28.40    1248      74.02   \n",
       "4948  Individual    Petrol            Manual    18.60    1197      85.80   \n",
       "\n",
       "      seats  selling_price  \n",
       "4943      5        1549000  \n",
       "4945      5         650000  \n",
       "4946      5         251000  \n",
       "4947      5         800000  \n",
       "4948      5         350000  "
      ]
     },
     "execution_count": 20,
     "metadata": {},
     "output_type": "execute_result"
    }
   ],
   "source": [
    "batch_of_data"
   ]
  },
  {
   "cell_type": "markdown",
   "metadata": {},
   "source": [
    "## Global Counter initial code"
   ]
  },
  {
   "cell_type": "code",
   "execution_count": null,
   "metadata": {},
   "outputs": [
    {
     "name": "stdout",
     "output_type": "stream",
     "text": [
      "10\n"
     ]
    }
   ],
   "source": [
    "from configparser import ConfigParser \n",
    "\n",
    "configure = ConfigParser()\n",
    "configure.read('config.ini')\n",
    "print(configure.get('Counter_Variable','processed_row_count'))\n",
    "\n",
    "#cnt=configure.get('Counter_Variable','processed_row_count')\n",
    "cnt=configure['Counter_Variable']['processed_row_count']\n",
    "tmp_data=car_data.iloc[list(range(int(cnt),int(cnt)+5))]\n",
    "\n",
    "#configure.set('Counter_Variable','processed_row_count',)\n",
    "\n",
    "configure['Counter_Variable']['processed_row_count']=str(int(cnt)+5)\n",
    "\n",
    "with open('config.ini', 'w') as configfile:\n",
    "    configure.write(configfile)"
   ]
  },
  {
   "cell_type": "code",
   "execution_count": 25,
   "metadata": {},
   "outputs": [
    {
     "data": {
      "text/plain": [
       "['db_config.ini']"
      ]
     },
     "execution_count": 25,
     "metadata": {},
     "output_type": "execute_result"
    }
   ],
   "source": [
    "import pymysql\n",
    "from configparser import ConfigParser\n",
    "\n",
    "db_conf = ConfigParser()\n",
    "db_conf.read('db_config.ini')"
   ]
  },
  {
   "cell_type": "code",
   "execution_count": 5,
   "metadata": {},
   "outputs": [
    {
     "data": {
      "text/plain": [
       "[(<AddressFamily.AF_INET: 2>, 0, 0, '', ('13.202.120.236', 3306))]"
      ]
     },
     "execution_count": 5,
     "metadata": {},
     "output_type": "execute_result"
    }
   ],
   "source": [
    "import socket\n",
    "socket.getaddrinfo('kafka-db.cpoay2as0rsq.ap-south-1.rds.amazonaws.com',3306)"
   ]
  },
  {
   "cell_type": "code",
   "execution_count": 22,
   "metadata": {},
   "outputs": [],
   "source": [
    "#import pymysql\n",
    "\n",
    "\n",
    "conn_endpoint = \"kafka-db.cpoay2as0rsq.ap-south-1.rds.amazonaws.com\"\n",
    "username = 'admin'\n",
    "password = 'hJqafMy9NcwpDrTTk3t4'\n",
    "port = 3306\n",
    "database = 'kafka-db'\n",
    "\n",
    "'''conn = pymysql.connect( \n",
    "        host=conn_endpoint, \n",
    "        user=username,  \n",
    "        password = password, \n",
    "        port=port\n",
    "        ) \n",
    "\n",
    "cursor = conn.cursor()\n",
    "'''\n",
    "\n",
    "cnx = pymysql.connect(host=conn_endpoint,user=username, password=password,port=port)\n",
    "\n",
    "cursor = cnx.cursor()\n",
    "\n"
   ]
  },
  {
   "cell_type": "code",
   "execution_count": null,
   "metadata": {},
   "outputs": [],
   "source": [
    "cnx.close()"
   ]
  },
  {
   "cell_type": "code",
   "execution_count": 23,
   "metadata": {},
   "outputs": [],
   "source": [
    "import pymysql\n",
    "from configparser import ConfigParser\n",
    "\n",
    "db_conf = ConfigParser()\n",
    "db_conf.read('db_config.ini')\n",
    "\n",
    "conn_endpoint = db_conf['Db_config']['conn_endpoint']\n",
    "username = db_conf['Db_config']['Username']\n",
    "password = db_conf['Db_config']['Password']\n",
    "port=db_conf['Db_config']['Port']\n",
    "database = db_conf['Db_config']['Database']\n",
    "\n",
    "cnx = pymysql.connect(host=conn_endpoint,user=username, password=password,port=int(port),database=database)\n",
    "\n",
    "cursor = cnx.cursor()"
   ]
  },
  {
   "cell_type": "code",
   "execution_count": 24,
   "metadata": {},
   "outputs": [
    {
     "name": "stdout",
     "output_type": "stream",
     "text": [
      "Connection was successful\n"
     ]
    }
   ],
   "source": [
    "from dbutils import Dbutils\n",
    "\n",
    "table_name=db_conf['Db_config']['table_name']\n",
    "\n",
    "db_obj = Dbutils()\n",
    "try:\n",
    "    db_obj.db_connect()\n",
    "    print(\"Connection was successful\")\n",
    "except Exception as e:\n",
    "    print(e)\n",
    "\n",
    "db_obj.cursor.execute('show tables;')\n",
    "output=db_obj.cursor.fetchall()\n",
    "create_tbl=True\n",
    "for i in range(len(list(output))):\n",
    "    if list(output)[i][0]==table_name:\n",
    "        create_tbl = False\n",
    "\n",
    "if create_tbl == True : \n",
    "    print(\"{} table was created.\".format(table_name))\n",
    "    db_obj.create_table(table_name)\n",
    "\n"
   ]
  },
  {
   "cell_type": "code",
   "execution_count": 10,
   "metadata": {},
   "outputs": [
    {
     "name": "stdout",
     "output_type": "stream",
     "text": [
      "hello\n",
      "hel\n"
     ]
    }
   ],
   "source": [
    "import time\n",
    "\n",
    "print('hello')\n",
    "time.sleep(2)\n",
    "print(\"hel\")"
   ]
  },
  {
   "cell_type": "code",
   "execution_count": 9,
   "metadata": {},
   "outputs": [
    {
     "name": "stdout",
     "output_type": "stream",
     "text": [
      "15 15411\n"
     ]
    }
   ],
   "source": [
    "print(int(gc_obj.current_global_counter_val)+int(gc_obj.records_in_a_batch),len(car_data))"
   ]
  },
  {
   "cell_type": "code",
   "execution_count": 11,
   "metadata": {},
   "outputs": [
    {
     "name": "stdout",
     "output_type": "stream",
     "text": [
      "Current value of Global Counter is 3795\n",
      "Incrementing Global counter value by 5\n",
      "Commiting config data changes.\n",
      "records from index 3795 to 3800 were inserted into table.\n",
      "Current value of Global Counter is 3800\n",
      "Incrementing Global counter value by 5\n",
      "Commiting config data changes.\n",
      "records from index 3800 to 3805 were inserted into table.\n",
      "Current value of Global Counter is 3805\n",
      "Incrementing Global counter value by 5\n",
      "Commiting config data changes.\n",
      "records from index 3805 to 3810 were inserted into table.\n",
      "Current value of Global Counter is 3810\n",
      "Incrementing Global counter value by 5\n",
      "Commiting config data changes.\n",
      "records from index 3810 to 3815 were inserted into table.\n",
      "Current value of Global Counter is 3815\n",
      "Incrementing Global counter value by 5\n",
      "Commiting config data changes.\n",
      "records from index 3815 to 3820 were inserted into table.\n",
      "Current value of Global Counter is 3820\n",
      "Incrementing Global counter value by 5\n",
      "Commiting config data changes.\n",
      "records from index 3820 to 3825 were inserted into table.\n",
      "Current value of Global Counter is 3825\n",
      "Incrementing Global counter value by 5\n",
      "Commiting config data changes.\n",
      "records from index 3825 to 3830 were inserted into table.\n",
      "Current value of Global Counter is 3830\n",
      "Incrementing Global counter value by 5\n",
      "Commiting config data changes.\n",
      "records from index 3830 to 3835 were inserted into table.\n",
      "Current value of Global Counter is 3835\n",
      "Incrementing Global counter value by 5\n",
      "Commiting config data changes.\n",
      "records from index 3835 to 3840 were inserted into table.\n",
      "Current value of Global Counter is 3840\n",
      "Incrementing Global counter value by 5\n",
      "Commiting config data changes.\n",
      "records from index 3840 to 3845 were inserted into table.\n",
      "Current value of Global Counter is 3845\n",
      "Incrementing Global counter value by 5\n",
      "Commiting config data changes.\n",
      "records from index 3845 to 3850 were inserted into table.\n",
      "Current value of Global Counter is 3850\n",
      "Incrementing Global counter value by 5\n",
      "Commiting config data changes.\n",
      "records from index 3850 to 3855 were inserted into table.\n",
      "Current value of Global Counter is 3855\n",
      "Incrementing Global counter value by 5\n",
      "Commiting config data changes.\n",
      "records from index 3855 to 3860 were inserted into table.\n",
      "Current value of Global Counter is 3860\n",
      "Incrementing Global counter value by 5\n",
      "Commiting config data changes.\n",
      "records from index 3860 to 3865 were inserted into table.\n",
      "Current value of Global Counter is 3865\n",
      "Incrementing Global counter value by 5\n",
      "Commiting config data changes.\n",
      "records from index 3865 to 3870 were inserted into table.\n",
      "Current value of Global Counter is 3870\n",
      "Incrementing Global counter value by 5\n",
      "Commiting config data changes.\n",
      "records from index 3870 to 3875 were inserted into table.\n",
      "Current value of Global Counter is 3875\n",
      "Incrementing Global counter value by 5\n",
      "Commiting config data changes.\n",
      "records from index 3875 to 3880 were inserted into table.\n",
      "Current value of Global Counter is 3880\n",
      "Incrementing Global counter value by 5\n",
      "Commiting config data changes.\n",
      "records from index 3880 to 3885 were inserted into table.\n"
     ]
    },
    {
     "ename": "KeyboardInterrupt",
     "evalue": "",
     "output_type": "error",
     "traceback": [
      "\u001b[1;31m---------------------------------------------------------------------------\u001b[0m",
      "\u001b[1;31mKeyboardInterrupt\u001b[0m                         Traceback (most recent call last)",
      "Cell \u001b[1;32mIn[11], line 11\u001b[0m\n\u001b[0;32m      9\u001b[0m     db_obj\u001b[38;5;241m.\u001b[39minsert_records(batch_of_data,)\n\u001b[0;32m     10\u001b[0m     \u001b[38;5;28mprint\u001b[39m(\u001b[38;5;124m\"\u001b[39m\u001b[38;5;124mrecords from index \u001b[39m\u001b[38;5;132;01m{}\u001b[39;00m\u001b[38;5;124m to \u001b[39m\u001b[38;5;132;01m{}\u001b[39;00m\u001b[38;5;124m were inserted into table.\u001b[39m\u001b[38;5;124m\"\u001b[39m\u001b[38;5;241m.\u001b[39mformat(\u001b[38;5;28mint\u001b[39m(gc_obj\u001b[38;5;241m.\u001b[39mcurrent_global_counter_val)\u001b[38;5;241m-\u001b[39m\u001b[38;5;28mint\u001b[39m(gc_obj\u001b[38;5;241m.\u001b[39mrecords_in_a_batch),\u001b[38;5;28mint\u001b[39m(gc_obj\u001b[38;5;241m.\u001b[39mcurrent_global_counter_val)))\n\u001b[1;32m---> 11\u001b[0m     \u001b[43mtime\u001b[49m\u001b[38;5;241;43m.\u001b[39;49m\u001b[43msleep\u001b[49m\u001b[43m(\u001b[49m\u001b[38;5;241;43m5\u001b[39;49m\u001b[43m)\u001b[49m\n\u001b[0;32m     13\u001b[0m gc_obj\u001b[38;5;241m.\u001b[39mreset_global_counter_val()\n",
      "\u001b[1;31mKeyboardInterrupt\u001b[0m: "
     ]
    }
   ],
   "source": [
    "while (int(gc_obj.current_global_counter_val)+int(gc_obj.records_in_a_batch)<=len(car_data)):\n",
    "    print(\"Current value of Global Counter is {}\".format(gc_obj.current_global_counter_val))\n",
    "    batch_of_data = gc_obj.fetch_records(car_data)\n",
    "    print(\"Incrementing Global counter value by {}\".format(gc_obj.records_in_a_batch))\n",
    "    gc_obj.set_global_counter_val()\n",
    "    print(\"Commiting config data changes.\")\n",
    "    gc_obj.write_config_data()\n",
    "\n",
    "    db_obj.insert_records(batch_of_data,)\n",
    "    print(\"records from index {} to {} were inserted into table.\".format(int(gc_obj.current_global_counter_val)-int(gc_obj.records_in_a_batch),int(gc_obj.current_global_counter_val)))\n",
    "    time.sleep(5)\n",
    "\n",
    "gc_obj.reset_global_counter_val()"
   ]
  },
  {
   "cell_type": "code",
   "execution_count": 13,
   "metadata": {},
   "outputs": [],
   "source": [
    "cursor.execute('show tables;')\n",
    "output=cursor.fetchall()\n",
    "#cursor.close()"
   ]
  },
  {
   "cell_type": "code",
   "execution_count": 14,
   "metadata": {},
   "outputs": [
    {
     "name": "stdout",
     "output_type": "stream",
     "text": [
      "(('cardekho_sales_dtl',), ('sample_tbl',))\n"
     ]
    }
   ],
   "source": [
    "print(output)"
   ]
  },
  {
   "cell_type": "code",
   "execution_count": 15,
   "metadata": {},
   "outputs": [
    {
     "name": "stdout",
     "output_type": "stream",
     "text": [
      "cardekho_sales_dtl\n",
      "sample_tbl\n"
     ]
    }
   ],
   "source": [
    "for i in range(len(list(output))):\n",
    "    print(list(output)[i][0])"
   ]
  },
  {
   "cell_type": "code",
   "execution_count": 8,
   "metadata": {},
   "outputs": [
    {
     "name": "stdout",
     "output_type": "stream",
     "text": [
      "cardekho_sales_dtl\n"
     ]
    }
   ],
   "source": [
    "print(list(output)[0][0])"
   ]
  },
  {
   "cell_type": "code",
   "execution_count": 1,
   "metadata": {},
   "outputs": [],
   "source": [
    "from dbutils import Dbutils\n",
    "\n",
    "db = Dbutils()\n",
    "db.db_connect()\n",
    "#db.create_table('cardekho_sales_dtl')"
   ]
  },
  {
   "cell_type": "code",
   "execution_count": 2,
   "metadata": {},
   "outputs": [],
   "source": [
    "db.cnx.close()"
   ]
  },
  {
   "cell_type": "code",
   "execution_count": null,
   "metadata": {},
   "outputs": [],
   "source": []
  }
 ],
 "metadata": {
  "kernelspec": {
   "display_name": "kafka_test",
   "language": "python",
   "name": "python3"
  },
  "language_info": {
   "codemirror_mode": {
    "name": "ipython",
    "version": 3
   },
   "file_extension": ".py",
   "mimetype": "text/x-python",
   "name": "python",
   "nbconvert_exporter": "python",
   "pygments_lexer": "ipython3",
   "version": "3.8.2"
  }
 },
 "nbformat": 4,
 "nbformat_minor": 2
}
